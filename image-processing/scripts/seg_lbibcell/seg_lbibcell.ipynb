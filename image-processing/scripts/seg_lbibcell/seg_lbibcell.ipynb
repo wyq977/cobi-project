{
 "cells": [
  {
   "cell_type": "markdown",
   "metadata": {},
   "source": [
    "## Segementation of cells\n",
    "\n",
    "Currently I have only been testing with simulation output from LBIBCell (rendered by Paraview).\n",
    "\n",
    "Will walk through the basic workflow below"
   ]
  },
  {
   "cell_type": "code",
   "execution_count": 1,
   "metadata": {},
   "outputs": [],
   "source": [
    "%matplotlib inline\n",
    "\n",
    "import matplotlib.pyplot as plt\n",
    "from numpy import mean\n",
    "import pandas as pd\n",
    "import numpy as np\n",
    "from scipy import ndimage as ndi\n",
    "from scipy.stats import variation, gstd\n",
    "from skimage import (\n",
    "    color, filters, measure, morphology, segmentation, io, feature\n",
    ")"
   ]
  },
  {
   "cell_type": "markdown",
   "metadata": {},
   "source": [
    "## IO: Reading screenshot from tiff or png files\n",
    "\n",
    "The external saved tiff, png or other image format\n",
    "\n",
    "Now only works with one frame (a single image)\n",
    "\n",
    "Can change it to gray scale for now"
   ]
  },
  {
   "cell_type": "code",
   "execution_count": 2,
   "metadata": {},
   "outputs": [],
   "source": [
    "# set parameters related to simulation\n",
    "size_x, size_y = 1000, 1000\n",
    "\n",
    "filename = 'seg_lbibcell_example.png'"
   ]
  },
  {
   "cell_type": "code",
   "execution_count": 3,
   "metadata": {},
   "outputs": [
    {
     "name": "stdout",
     "output_type": "stream",
     "text": [
      "Input: 4000 X 4000\n"
     ]
    }
   ],
   "source": [
    "# read img as greyscale\n",
    "img = io.imread(filename, as_gray=True)\n",
    "print('Input: {} X {}'.format(img.shape[0], img.shape[1]))\n",
    "\n",
    "# scale factor size the simulation takes place in a fixed box grid\n",
    "SCALE_X = img.shape[0] / size_x\n",
    "SCALE_Y = img.shape[1] / size_y\n",
    "AREA_SCALE = SCALE_X * SCALE_Y\n",
    "SMALL_OBJECTS_THRESHOLD = 40"
   ]
  },
  {
   "cell_type": "markdown",
   "metadata": {},
   "source": [
    "## Segmentation methods\n",
    "\n",
    "For now, since the photos are simulated, no denoising or other restoration are made.\n",
    "\n",
    "Simple threshold filter would be good results provided the input image is fine enought (high resolution needed)\n",
    "\n",
    "1. [Segment human cells (in mitosis)](https://scikit-image.org/docs/dev/auto_examples/applications/plot_human_mitosis.html#sphx-glr-auto-examples-applications-plot-human-mitosis-py)\n",
    "2. [Other techniques by scikit-image, and evaluation](https://scikit-image.org/docs/dev/auto_examples/segmentation/plot_metrics.html#sphx-glr-auto-examples-segmentation-plot-metrics-py)"
   ]
  },
  {
   "cell_type": "markdown",
   "metadata": {},
   "source": [
    "The true result should be 3120 cells"
   ]
  },
  {
   "cell_type": "markdown",
   "metadata": {},
   "source": [
    "### Edge-based segmentation (canny)"
   ]
  },
  {
   "cell_type": "code",
   "execution_count": 4,
   "metadata": {},
   "outputs": [],
   "source": [
    "def print_label_info(labels, img, AREA_SCALE):\n",
    "    region_props = ['label', 'area', 'centroid']\n",
    "    props = measure.regionprops_table(labels, img,properties=region_props)\n",
    "    print('{} cells identified from the image'.format(labels.max()))\n",
    "    print('Average area : {:.4f} +/- {:.2f}'.format(mean(props['area']) / AREA_SCALE, gstd(props['area']) / AREA_SCALE))\n",
    "    print('CV           : {:.4f}'.format(variation(props['area'])))\n",
    "    print('min          : {:.4f}'.format(np.min(props['area']) / AREA_SCALE))\n",
    "    print('max          : {:.4f}'.format(np.max(props['area']) / AREA_SCALE))\n",
    "    \n",
    "    return props"
   ]
  },
  {
   "cell_type": "code",
   "execution_count": null,
   "metadata": {},
   "outputs": [],
   "source": [
    "img_edge_canny = feature.canny(img)\n",
    "\n",
    "cells_fill_canny = ndi.binary_fill_holes(img_edge_canny)\n",
    "\n",
    "cells_fill_canny_clean = morphology.remove_small_objects(cells_fill_canny, SMALL_OBJECTS_THRESHOLD * AREA_SCALE)\n",
    "\n",
    "labeled_cells_canny = measure.label(cells_fill_canny_clean)\n",
    "\n",
    "props = print_label_info(labeled_cells_canny, img, AREA_SCALE)"
   ]
  },
  {
   "cell_type": "markdown",
   "metadata": {},
   "source": [
    "### Region-based segmentation"
   ]
  },
  {
   "cell_type": "code",
   "execution_count": null,
   "metadata": {},
   "outputs": [],
   "source": [
    "img_sobel = filters.sobel(img)\n",
    "\n",
    "markers = np.zeros_like(img)\n",
    "markers[img < 0.25] = 0\n",
    "markers[img > 0.25] = 1\n",
    "\n",
    "cells_sobel_seg = segmentation.watershed(img_sobel, markers)"
   ]
  },
  {
   "cell_type": "markdown",
   "metadata": {},
   "source": [
    "### Filtering: Multi-Otsu Thresholding"
   ]
  },
  {
   "cell_type": "code",
   "execution_count": null,
   "metadata": {},
   "outputs": [],
   "source": [
    "# Use Multi-Otsu Thresholding\n",
    "thresholds = filters.threshold_multiotsu(img, classes=2)\n",
    "\n",
    "# get label cells, background is darker\n",
    "# use simple filter since it\n",
    "cells = img <= thresholds\n",
    "\n",
    "# remove objects < 40, have to remove small artifacts\n",
    "cells_clean = morphology.remove_small_objects(\n",
    "    cells, SMALL_OBJECTS_THRESHOLD * AREA_SCALE)\n",
    "\n",
    "labeled_cells_threshold_multiotsu = measure.label(cells_clean)\n",
    "\n",
    "props = print_label_info(labeled_cells_canny, img, AREA_SCALE)"
   ]
  },
  {
   "cell_type": "markdown",
   "metadata": {},
   "source": [
    "## Visualization (Only filter)"
   ]
  },
  {
   "cell_type": "code",
   "execution_count": null,
   "metadata": {},
   "outputs": [],
   "source": [
    "fig, ax = plt.subplots()\n",
    "plt.imshow(io.imread(filename))\n",
    "ax.set_title('Original Image')\n",
    "ax.set_axis_off()\n",
    "plt.show()"
   ]
  },
  {
   "cell_type": "code",
   "execution_count": null,
   "metadata": {},
   "outputs": [],
   "source": [
    "fig, ax = plt.subplots()\n",
    "ax.imshow(segmentation.mark_boundaries(img, labeled_cells_threshold_multiotsu))\n",
    "ax.set_title('Multi-Otsu Thresholding (< {} removed)'.format(SMALL_OBJECTS_THRESHOLD))\n",
    "ax.set_axis_off()"
   ]
  },
  {
   "cell_type": "code",
   "execution_count": null,
   "metadata": {},
   "outputs": [],
   "source": [
    "fig, axes = plt.subplots()\n",
    "plt.scatter(x=props['centroid-0'], y=props['centroid-1'], s=props['area'] / (img.shape[0] * 20))\n",
    "ax.set_title('Centroid of cells')\n",
    "ax.set_axis_off()"
   ]
  },
  {
   "cell_type": "code",
   "execution_count": null,
   "metadata": {},
   "outputs": [],
   "source": [
    "image_label_overlay = color.label2rgb(labeled_cells_threshold_multiotsu, image=img, bg_label=0)\n",
    "image_label_overlay = color.label2rgb(labeled_cells_threshold_multiotsu, image=img, bg_label=0)\n",
    "fig, ax = plt.subplots()\n",
    "plt.imshow(image_label_overlay)\n",
    "ax.set_title('Labelled cells (Color)')\n",
    "ax.set_axis_off()"
   ]
  },
  {
   "cell_type": "markdown",
   "metadata": {},
   "source": [
    "Useful link:\n",
    "\n",
    "1. https://scipy-lectures.org/packages/scikit-image/auto_examples/plot_boundaries.html#sphx-glr-packages-scikit-image-auto-examples-plot-boundaries-py\n",
    "2. https://github.com/mrgloom/awesome-semantic-segmentation\n",
    "3. https://emmanuelle.github.io/a-tutorial-on-segmentation.html a little outdated\n",
    "4. https://scikit-image.org/docs/stable/auto_examples/applications/plot_coins_segmentation.html\n",
    "\n",
    "And mostly tutorials on scikit-image"
   ]
  }
 ],
 "metadata": {
  "kernelspec": {
   "display_name": "Python 3",
   "language": "python",
   "name": "python3"
  },
  "language_info": {
   "codemirror_mode": {
    "name": "ipython",
    "version": 3
   },
   "file_extension": ".py",
   "mimetype": "text/x-python",
   "name": "python",
   "nbconvert_exporter": "python",
   "pygments_lexer": "ipython3",
   "version": "3.8.3"
  }
 },
 "nbformat": 4,
 "nbformat_minor": 4
}
