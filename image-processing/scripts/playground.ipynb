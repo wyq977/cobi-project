{
 "cells": [
  {
   "cell_type": "code",
   "execution_count": 7,
   "metadata": {},
   "outputs": [],
   "source": [
    "from vtk import vtkXMLPolyDataReader, vtkPoints, vtkXMLPolyDataWriter\n",
    "from vtk.util.numpy_support import vtk_to_numpy, numpy_to_vtk"
   ]
  },
  {
   "cell_type": "code",
   "execution_count": 2,
   "metadata": {},
   "outputs": [],
   "source": [
    "input_file = 'vtk/thin_50.vtp'"
   ]
  },
  {
   "cell_type": "code",
   "execution_count": 3,
   "metadata": {},
   "outputs": [],
   "source": [
    "reader = vtkXMLPolyDataReader()\n",
    "reader.SetFileName(input_file)\n",
    "reader.Update()\n",
    "polyData = reader.GetOutput()\n",
    "polyDataPointData = polyData.GetPointData()\n",
    "# change only this\n",
    "nbOfCells = polyData.GetNumberOfPolys()"
   ]
  },
  {
   "cell_type": "code",
   "execution_count": 4,
   "metadata": {},
   "outputs": [],
   "source": [
    "nbOfPoints = polyData.GetNumberOfPoints()\n",
    "coor = vtk_to_numpy(polyData.GetPoints().GetData())\n",
    "coor[:, 0] -= 350"
   ]
  },
  {
   "cell_type": "code",
   "execution_count": 5,
   "metadata": {},
   "outputs": [],
   "source": [
    "points = vtkPoints()\n",
    "points.SetData(numpy_to_vtk(coor, deep=True))\n",
    "polyData.SetPoints(points)"
   ]
  },
  {
   "cell_type": "code",
   "execution_count": 8,
   "metadata": {},
   "outputs": [
    {
     "data": {
      "text/plain": [
       "1"
      ]
     },
     "execution_count": 8,
     "metadata": {},
     "output_type": "execute_result"
    }
   ],
   "source": [
    "writer = vtkXMLPolyDataWriter()\n",
    "writer.SetFileName('test-move.vtp')\n",
    "writer.SetInputData(polyData)\n",
    "writer.SetDataModeToAscii()\n",
    "writer.Write()"
   ]
  }
 ],
 "metadata": {
  "kernelspec": {
   "display_name": "vtk",
   "language": "python",
   "name": "vtk"
  },
  "language_info": {
   "codemirror_mode": {
    "name": "ipython",
    "version": 3
   },
   "file_extension": ".py",
   "mimetype": "text/x-python",
   "name": "python",
   "nbconvert_exporter": "python",
   "pygments_lexer": "ipython3",
   "version": "3.8.6"
  }
 },
 "nbformat": 4,
 "nbformat_minor": 4
}
